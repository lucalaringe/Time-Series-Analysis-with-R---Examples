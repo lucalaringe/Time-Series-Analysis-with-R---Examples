{
 "cells": [
  {
   "cell_type": "markdown",
   "metadata": {},
   "source": [
    "# Dynamic Linear Models and Kalman Filter\n",
    "### Luca Laringe"
   ]
  },
  {
   "cell_type": "markdown",
   "metadata": {},
   "source": [
    "In this notebook I will show some examples of how to apply Kalman Filter to dynamic linear models (a subclass of state-space models) in R using the \"dlm\" package. The notation is based on Petris et al. \"Dynamic Linear models with R\" (2007)."
   ]
  },
  {
   "cell_type": "markdown",
   "metadata": {},
   "source": [
    "## Introduction"
   ]
  },
  {
   "cell_type": "markdown",
   "metadata": {},
   "source": [
    "State-space models consider a time series as the output of a dynamic system perturbed by random disturbances. As we shall see, they allow a natural interpretation of a time series as the result of several components, such as trend, seasonal or\n",
    "regressive components. At the same time, they have an elegant and powerful probabilistic structure, offering a flexible framework for a very wide range of applications. Computations can be implemented by recursive algorithms. The problems of estimation and forecasting are solved by recursively computing the conditional distribution of the quantities of interest, given the available information. In this sense, they are quite naturally treated from a Bayesian approach. State-space models can be used for modeling univariate or multivariate time series, also in presence of non-stationarity, structural changes, irregular\n",
    "patterns. State-space models include ARMA models as special case, but as we shall see, they can be applied to nonstationary time series without requiring a preliminary transformation of the data to get stationarity."
   ]
  },
  {
   "cell_type": "markdown",
   "metadata": {},
   "source": [
    "## Dynamic Linear Models"
   ]
  },
  {
   "cell_type": "markdown",
   "metadata": {},
   "source": [
    "The first, important class of state-space models is given by Gaussian linear state-space models, also called dynamic linear models (DLM). These models are specified by means of two equations:\n",
    "\n",
    "The state equation, which describes the state vector $\\theta_t$ (rx1), which is a Markov Chain:\n",
    "\n",
    "$\\theta_t = G_t \\theta_{t-1} + w_t, w_t \\sim \\mathcal{N_r}(0,W_t)$\n",
    "\n",
    "The observation equation, which assumes th observation vector $Y_t$ (nx1) is a function of the state vector plus a random disturbance:\n",
    "\n",
    "$Y_t = F_t \\theta_t + v_t, v_t \\sim \\mathcal{N_n}(0,V_t)$"
   ]
  },
  {
   "cell_type": "markdown",
   "metadata": {},
   "source": [
    "The random disturbances, ($v_T$) and ($w_T$), are two independent white noise sequences. Since the Kalman filter is a recursive algorithm, the first step must be usually specified. In particular, it is also assumed:\n",
    "\n",
    "$\\theta_0 \\sim \\mathcal{N_r}(m_0,C_0)$\n",
    "\n",
    "for some non-random vector $m_0$ and matrix $C_0$, and it is independent on ($v_T$) and ($w_T$)."
   ]
  },
  {
   "cell_type": "markdown",
   "metadata": {},
   "source": [
    "## Kalman Filter"
   ]
  },
  {
   "cell_type": "markdown",
   "metadata": {},
   "source": [
    "Let us know report the Kalman filter recursive formulas for the general dynamic linear model described earlier.\n",
    "\n",
    "If $\\theta_{t-1} \\mid \\mathcal{D}_{t-1} \\sim \\mathcal{N_r}(m_{t-1},C_{t-1})$,  where $t \\geq 1$, then:"
   ]
  },
  {
   "cell_type": "markdown",
   "metadata": {},
   "source": [
    "(a) the one-step-ahead state predictive density of $\\theta_t \\mid \\mathcal{D}_{t-1}$ is Gaussian, with parameters:\n",
    "\n",
    "$a_t = \\mathbb{E}[\\theta_t \\mid \\mathcal{D}_{t-1}] = G_t m_{t-1}$\n",
    "\n",
    "$R_t = \\mathbb{V}[\\theta_t \\mid \\mathcal{D}_{t-1}] = G_t C_{t-1} G_t^\\intercal + W_t$"
   ]
  },
  {
   "cell_type": "markdown",
   "metadata": {},
   "source": [
    "(b) the one-step-ahead predictive density of $Y_t \\mid \\mathcal{D}_{t-1}$ is Gaussian, with parameters:\n",
    "\n",
    "$f_t = \\mathbb{E}[\\theta_t \\mid \\mathcal{D}_{t-1}] = F_t a_{t}$\n",
    "\n",
    "$Q_t = \\mathbb{V}[\\theta_t \\mid \\mathcal{D}_{t-1}] = F_t R_{t} F_t^\\intercal + V_t$"
   ]
  },
  {
   "cell_type": "markdown",
   "metadata": {},
   "source": [
    "(c) the filtering density of $\\theta_t \\mid \\mathcal{D}_{t}$ is Gaussian, with parameters:\n",
    "\n",
    "$m_t = \\mathbb{E}[\\theta_t \\mid \\mathcal{D}_{t}] = a_t + R_t F_{t}^\\intercal Q_t^{-1} (Y_t - f_t)$\n",
    "\n",
    "$C_t = \\mathbb{V}[\\theta_t \\mid \\mathcal{D}_{t}] = R_{t} - R_t F_{t}^\\intercal Q_t^{-1} F_t R_t$"
   ]
  },
  {
   "cell_type": "markdown",
   "metadata": {},
   "source": [
    "Note that the expression of $m_t$ has the intuitive estimation-correction form\n",
    "”filter mean equal to the prediction mean at plus a correction depending on\n",
    "how much the new observation differs from its prediction”. The weight of the\n",
    "correction term is given by the gain matrix:\n",
    "\n",
    "$ K_t = R_t F_{t}^\\intercal Q_t^{-1}$"
   ]
  },
  {
   "cell_type": "markdown",
   "metadata": {},
   "source": [
    "The evaluation of the posterior variances Ct (and consequently also of Rt and Qt) using the previous iterative updating formulae, as simple as it may appear, suffers from numerical instability that may lead to nonsymmetric and even negative definite calculated variance matrices. Alternative, stabler, algorithms have been developed to overcome this issue. Apparently,\n",
    "the most widely used, at least in the Statistics literature, is the square root filter, which provides formulae for the sequential update of a square root of Ct. References for the square root filter are Morf and Kailath (1975) and Anderson and Moore (1979, Ch. 6). A more robust algorithm is the one based on sequentially updating the singular value decomposition6 (SVD) of Ct. The details of the algorithm can be found in Oshman and Bar-Itzhack (1986) and Wang et al. (1992). The dlm package use this algorithm to update variance matrices."
   ]
  },
  {
   "cell_type": "markdown",
   "metadata": {},
   "source": [
    "#### Example: Linear Regression"
   ]
  },
  {
   "cell_type": "markdown",
   "metadata": {},
   "source": [
    "Linear regression can be thought as a DLM. Moreover, in the DLM structure, it can be extended to have time-varying coefficients. Let us give the state and observation equations that describe this process. For simplicity, let us assume that the $\\beta$ vector contains the constant as a first component and hence the $x_t$ vector contains 1 as first component."
   ]
  },
  {
   "cell_type": "markdown",
   "metadata": {},
   "source": [
    "$\\beta_t = \\beta_{t-1} + w_t, w_t \\sim \\mathcal{N_r}(0,W_t)$\n",
    "\n",
    "$y_t = x_t'\\beta_t + v_t, v_t \\sim \\mathcal{N_n}(0,V_t)$"
   ]
  },
  {
   "cell_type": "markdown",
   "metadata": {},
   "source": [
    "We also assume our prior distribution on $\\beta_0$ to be:\n",
    "\n",
    "$\\beta_0 \\sim \\mathcal{N_2}(b_0,C_0)$\n",
    "\n",
    "Let us know see an application of this model for the dynamic estimation of Google's $\\beta$."
   ]
  },
  {
   "cell_type": "code",
   "execution_count": 1,
   "metadata": {},
   "outputs": [
    {
     "name": "stderr",
     "output_type": "stream",
     "text": [
      "-- \u001b[1mAttaching packages\u001b[22m --------------------------------------- tidyverse 1.3.0 --\n",
      "\n",
      "\u001b[32mv\u001b[39m \u001b[34mggplot2\u001b[39m 3.3.2     \u001b[32mv\u001b[39m \u001b[34mpurrr  \u001b[39m 0.3.4\n",
      "\u001b[32mv\u001b[39m \u001b[34mtibble \u001b[39m 3.0.3     \u001b[32mv\u001b[39m \u001b[34mdplyr  \u001b[39m 1.0.2\n",
      "\u001b[32mv\u001b[39m \u001b[34mtidyr  \u001b[39m 1.1.2     \u001b[32mv\u001b[39m \u001b[34mstringr\u001b[39m 1.4.0\n",
      "\u001b[32mv\u001b[39m \u001b[34mreadr  \u001b[39m 1.3.1     \u001b[32mv\u001b[39m \u001b[34mforcats\u001b[39m 0.5.0\n",
      "\n",
      "-- \u001b[1mConflicts\u001b[22m ------------------------------------------ tidyverse_conflicts() --\n",
      "\u001b[31mx\u001b[39m \u001b[34mdplyr\u001b[39m::\u001b[32mfilter()\u001b[39m masks \u001b[34mstats\u001b[39m::filter()\n",
      "\u001b[31mx\u001b[39m \u001b[34mdplyr\u001b[39m::\u001b[32mlag()\u001b[39m    masks \u001b[34mstats\u001b[39m::lag()\n",
      "\n"
     ]
    }
   ],
   "source": [
    "# Loading useful libraries\n",
    "library(tidyverse)"
   ]
  },
  {
   "cell_type": "code",
   "execution_count": 2,
   "metadata": {},
   "outputs": [
    {
     "name": "stderr",
     "output_type": "stream",
     "text": [
      "Registered S3 method overwritten by 'quantmod':\n",
      "  method            from\n",
      "  as.zoo.data.frame zoo \n",
      "\n"
     ]
    }
   ],
   "source": [
    "library(tseries)"
   ]
  },
  {
   "cell_type": "code",
   "execution_count": 3,
   "metadata": {},
   "outputs": [
    {
     "name": "stderr",
     "output_type": "stream",
     "text": [
      "\n",
      "Attaching package: 'dlm'\n",
      "\n",
      "\n",
      "The following object is masked from 'package:ggplot2':\n",
      "\n",
      "    %+%\n",
      "\n",
      "\n"
     ]
    }
   ],
   "source": [
    "library(dlm)"
   ]
  },
  {
   "cell_type": "code",
   "execution_count": 4,
   "metadata": {},
   "outputs": [],
   "source": [
    "library(forecast)"
   ]
  },
  {
   "cell_type": "code",
   "execution_count": 5,
   "metadata": {},
   "outputs": [
    {
     "name": "stderr",
     "output_type": "stream",
     "text": [
      "Loading required package: xts\n",
      "\n",
      "Loading required package: zoo\n",
      "\n",
      "\n",
      "Attaching package: 'zoo'\n",
      "\n",
      "\n",
      "The following objects are masked from 'package:base':\n",
      "\n",
      "    as.Date, as.Date.numeric\n",
      "\n",
      "\n",
      "\n",
      "Attaching package: 'xts'\n",
      "\n",
      "\n",
      "The following objects are masked from 'package:dplyr':\n",
      "\n",
      "    first, last\n",
      "\n",
      "\n",
      "Loading required package: TTR\n",
      "\n",
      "Version 0.4-0 included new data defaults. See ?getSymbols.\n",
      "\n"
     ]
    }
   ],
   "source": [
    "library(quantmod)"
   ]
  },
  {
   "cell_type": "code",
   "execution_count": 6,
   "metadata": {},
   "outputs": [],
   "source": [
    "library(broom)"
   ]
  },
  {
   "cell_type": "code",
   "execution_count": 7,
   "metadata": {},
   "outputs": [],
   "source": [
    "library(timetk)"
   ]
  },
  {
   "cell_type": "code",
   "execution_count": 8,
   "metadata": {},
   "outputs": [],
   "source": [
    "# Set ggplot theme\n",
    "th <- theme_minimal() + \n",
    "  theme(plot.title = element_text(size=12, face=\"bold\"),\n",
    "        axis.title.x = element_text(size=7),                \n",
    "        axis.title.y = element_text(size=7),\n",
    "        legend.text = element_text(size=5),\n",
    "        legend.title = element_text(size=7),\n",
    "        axis.text = element_text(size=9),\n",
    "        strip.text = element_text(size=8, face = \"italic\"))"
   ]
  },
  {
   "cell_type": "code",
   "execution_count": 9,
   "metadata": {},
   "outputs": [
    {
     "name": "stderr",
     "output_type": "stream",
     "text": [
      "'getSymbols' currently uses auto.assign=TRUE by default, but will\n",
      "use auto.assign=FALSE in 0.5-0. You will still be able to use\n",
      "'loadSymbols' to automatically load data. getOption(\"getSymbols.env\")\n",
      "and getOption(\"getSymbols.auto.assign\") will still be checked for\n",
      "alternate defaults.\n",
      "\n",
      "This message is shown once per session and may be disabled by setting \n",
      "options(\"getSymbols.warning4.0\"=FALSE). See ?getSymbols for details.\n",
      "\n",
      "\n"
     ]
    }
   ],
   "source": [
    "# Downloading data\n",
    "y_raw <- getSymbols(\"GOOG\",src=\"yahoo\", auto.assign = FALSE)\n",
    "x_raw <- getSymbols(\"^GSPC\",src=\"yahoo\", auto.assign = FALSE)"
   ]
  },
  {
   "cell_type": "code",
   "execution_count": 10,
   "metadata": {},
   "outputs": [],
   "source": [
    "# Focus on adjusted close price\n",
    "y <- y_raw[,\"GOOG.Adjusted\"]\n",
    "x <- x_raw[,\"GSPC.Adjusted\"]"
   ]
  },
  {
   "cell_type": "code",
   "execution_count": 11,
   "metadata": {},
   "outputs": [],
   "source": [
    "# Modify time window\n",
    "y <- window(y, start = \"2010-01-01\", end = \"2020-07-01\")\n",
    "x <- window(x, start = \"2010-01-01\", end = \"2020-07-01\")\n",
    "\n",
    "# interpolate na\n",
    "y <- na.approx(y)\n",
    "x <- na.approx(x)"
   ]
  },
  {
   "cell_type": "code",
   "execution_count": 12,
   "metadata": {},
   "outputs": [],
   "source": [
    "# Monthly frequency (each price corresponds to the first observed each month)\n",
    "x <- apply.monthly(x, first)\n",
    "index(x) <- as.yearmon(index(x))\n",
    "y <- apply.monthly(y, first)\n",
    "index(y) <- as.yearmon(index(y))"
   ]
  },
  {
   "cell_type": "code",
   "execution_count": 13,
   "metadata": {},
   "outputs": [
    {
     "data": {
      "text/html": [
       "TRUE"
      ],
      "text/latex": [
       "TRUE"
      ],
      "text/markdown": [
       "TRUE"
      ],
      "text/plain": [
       "[1] TRUE"
      ]
     },
     "metadata": {},
     "output_type": "display_data"
    },
    {
     "data": {
      "image/png": "[encoded data removed]",
      "text/plain": [
       "plot without title"
      ]
     },
     "metadata": {
      "image/png": {
       "height": 420,
       "width": 420
      }
     },
     "output_type": "display_data"
    }
   ],
   "source": [
    "# Make sure series have same length and plot\n",
    "length(x) == length(y)\n",
    "autoplot(merge(x,y)) + th"
   ]
  },
  {
   "cell_type": "code",
   "execution_count": 14,
   "metadata": {},
   "outputs": [],
   "source": [
    "# Log return series\n",
    "x <- na.omit(diff(log(x)))\n",
    "y <- na.omit(diff(log(y)))"
   ]
  },
  {
   "cell_type": "code",
   "execution_count": 15,
   "metadata": {},
   "outputs": [
    {
     "data": {
      "text/html": [
       "<table>\n",
       "<caption>A tibble: 2 × 5</caption>\n",
       "<thead>\n",
       "\t<tr><th scope=col>term</th><th scope=col>estimate</th><th scope=col>std.error</th><th scope=col>statistic</th><th scope=col>p.value</th></tr>\n",
       "\t<tr><th scope=col>&lt;chr&gt;</th><th scope=col>&lt;dbl&gt;</th><th scope=col>&lt;dbl&gt;</th><th scope=col>&lt;dbl&gt;</th><th scope=col>&lt;dbl&gt;</th></tr>\n",
       "</thead>\n",
       "<tbody>\n",
       "\t<tr><td>(Intercept)</td><td>0.003720893</td><td>0.004921827</td><td>0.7559983</td><td>4.510840e-01</td></tr>\n",
       "\t<tr><td>x          </td><td>1.046359624</td><td>0.105800235</td><td>9.8899556</td><td>2.339112e-17</td></tr>\n",
       "</tbody>\n",
       "</table>\n"
      ],
      "text/latex": [
       "A tibble: 2 × 5\n",
       "\\begin{tabular}{lllll}\n",
       " term & estimate & std.error & statistic & p.value\\\\\n",
       " <chr> & <dbl> & <dbl> & <dbl> & <dbl>\\\\\n",
       "\\hline\n",
       "\t (Intercept) & 0.003720893 & 0.004921827 & 0.7559983 & 4.510840e-01\\\\\n",
       "\t x           & 1.046359624 & 0.105800235 & 9.8899556 & 2.339112e-17\\\\\n",
       "\\end{tabular}\n"
      ],
      "text/markdown": [
       "\n",
       "A tibble: 2 × 5\n",
       "\n",
       "| term &lt;chr&gt; | estimate &lt;dbl&gt; | std.error &lt;dbl&gt; | statistic &lt;dbl&gt; | p.value &lt;dbl&gt; |\n",
       "|---|---|---|---|---|\n",
       "| (Intercept) | 0.003720893 | 0.004921827 | 0.7559983 | 4.510840e-01 |\n",
       "| x           | 1.046359624 | 0.105800235 | 9.8899556 | 2.339112e-17 |\n",
       "\n"
      ],
      "text/plain": [
       "  term        estimate    std.error   statistic p.value     \n",
       "1 (Intercept) 0.003720893 0.004921827 0.7559983 4.510840e-01\n",
       "2 x           1.046359624 0.105800235 9.8899556 2.339112e-17"
      ]
     },
     "metadata": {},
     "output_type": "display_data"
    }
   ],
   "source": [
    "# Check beta estimate for clasical regression\n",
    "lin_reg <- lm(y ~ x)\n",
    "tidy(lin_reg)"
   ]
  },
  {
   "cell_type": "markdown",
   "metadata": {},
   "source": [
    "According to the classical time-series regression, the beta of Google is estimated to be around 1.04. Let's now try to look at the beta estimate when we allow this parameter to vary through time."
   ]
  },
  {
   "cell_type": "code",
   "execution_count": 16,
   "metadata": {},
   "outputs": [],
   "source": [
    "# In order to define the model, we only need the regressor, the regressand is going to enter the model once we use a filter or a smoother\n",
    "# We can use the estimates from the simple regression as initial guesses for the state parameters (alpha and beta)\n",
    "# All the other parameters are going to be left as default\n",
    "dlm_lin_reg <- dlmModReg(x, m0 = tidy(lin_reg)[\"estimate\"][[1]])\n",
    "\n",
    "# Create filter ans smoother objects\n",
    "dlm_lin_reg_filt <- dlmFilter(y, dlm_lin_reg)\n",
    "dlm_lin_reg_smooth <- dlmSmooth(dlm_lin_reg_filt)"
   ]
  },
  {
   "cell_type": "code",
   "execution_count": 17,
   "metadata": {},
   "outputs": [
    {
     "data": {
      "image/png": "[encoded data removed]",
      "text/plain": [
       "plot without title"
      ]
     },
     "metadata": {
      "image/png": {
       "height": 420,
       "width": 420
      }
     },
     "output_type": "display_data"
    }
   ],
   "source": [
    "# Plot the filtered estimated of beta through time\n",
    "t <- time(x)\n",
    "filter_beta <- zoo(dlm_lin_reg_filt$m[-1,2])\n",
    "time(filter_beta) <- t\n",
    "smoother_beta <- zoo(dlm_lin_reg_smooth$s[-1,2])\n",
    "time(smoother_beta) <- t\n",
    "\n",
    "autoplot(filter_beta) + th"
   ]
  },
  {
   "cell_type": "code",
   "execution_count": 18,
   "metadata": {},
   "outputs": [
    {
     "data": {
      "text/plain": [
       "Jul 2020 \n",
       " 1.04636 "
      ]
     },
     "metadata": {},
     "output_type": "display_data"
    }
   ],
   "source": [
    "# As of sample ending's estimate of beta:\n",
    "filter_beta[length(filter_beta)]"
   ]
  },
  {
   "cell_type": "markdown",
   "metadata": {},
   "source": [
    "As we can see the beta estimate is very close to the classic regression model's one. Moreover, we can see that Google's beta has been pretty constant over time. Note that the initial variance is due to the very diffuse prior we had for the state variable at time 0. Note that for this simple example we kept all the parameters to default. In general, the parameters of the model (for example the white noise process covariance matrix) can and should be estimated via maximum likelihood or bayesian methods. Let's try to estimate the parameters of the model by mle."
   ]
  },
  {
   "cell_type": "markdown",
   "metadata": {},
   "source": [
    "Recall that in the dynamic regression model we just specified, using the terminology of the last section, the unknown parameters are $W_t, V_t$, the variance matrices (scalars in the $V_t$ case) of the error terms. These were set to the default:"
   ]
  },
  {
   "cell_type": "code",
   "execution_count": 19,
   "metadata": {},
   "outputs": [
    {
     "name": "stdout",
     "output_type": "stream",
     "text": [
      "     [,1]\n",
      "[1,]    1\n",
      "     [,1] [,2]\n",
      "[1,]    0    0\n",
      "[2,]    0    0\n"
     ]
    }
   ],
   "source": [
    "print(dlm_lin_reg$V)\n",
    "print(dlm_lin_reg$W)"
   ]
  },
  {
   "cell_type": "markdown",
   "metadata": {},
   "source": [
    "As we can see, the default value for W was actually a null matrix. This implied alpha and beta costant through time because their innovation process does not have variance. If we really wanted time-varying parameters, we should have specified this matrix to be non null. On the other hand, the default value for V was 1, which is totally unrelated with our problem, so we need to change this too. How to choose the right parameters? A very convenient solution is given by mle estimation. We first have to define the matrices as functions of some parameters, then the dlm library will automatically maximize the log likelohood of the model. The dlmModReg function assumes uncorrelated innovations for the state variables, alpha and beta, hence the matrix W is diagonal and we only need to estimate 3 parameters."
   ]
  },
  {
   "cell_type": "code",
   "execution_count": 20,
   "metadata": {},
   "outputs": [
    {
     "name": "stderr",
     "output_type": "stream",
     "text": [
      "Warning message in dlmLL(y = y, mod = mod, debug = debug):\n",
      "\"a numerically singular 'V' has been slightly perturbed to make it nonsingular\"\n",
      "Warning message in dlmLL(y = y, mod = mod, debug = debug):\n",
      "\"a numerically singular 'V' has been slightly perturbed to make it nonsingular\"\n",
      "Warning message in dlmLL(y = y, mod = mod, debug = debug):\n",
      "\"a numerically singular 'V' has been slightly perturbed to make it nonsingular\"\n",
      "Warning message in dlmLL(y = y, mod = mod, debug = debug):\n",
      "\"a numerically singular 'V' has been slightly perturbed to make it nonsingular\"\n",
      "Warning message in dlmLL(y = y, mod = mod, debug = debug):\n",
      "\"a numerically singular 'V' has been slightly perturbed to make it nonsingular\"\n",
      "Warning message in dlmLL(y = y, mod = mod, debug = debug):\n",
      "\"a numerically singular 'V' has been slightly perturbed to make it nonsingular\"\n",
      "Warning message in dlmLL(y = y, mod = mod, debug = debug):\n",
      "\"a numerically singular 'V' has been slightly perturbed to make it nonsingular\"\n"
     ]
    }
   ],
   "source": [
    "# define a parmeter vector (you can also define it directly in the dlmMLE function)\n",
    "parm <- c(0,0,0)  # V, W_1_1, W_2_2\n",
    "\n",
    "# define a dlm as a function of the params (we taxe e^param so we impose variances to be positive)\n",
    "build <- function(parm) {\n",
    "dlmModReg(x, m0 = tidy(lin_reg)[\"estimate\"][[1]], dV = exp(parm[1]),\n",
    "          dW = c(exp(parm[2]),exp(parm[3])))\n",
    "}\n",
    "\n",
    "# MLE\n",
    "dlm_lin_reg_mle <- dlmMLE(y, parm, build)"
   ]
  },
  {
   "cell_type": "code",
   "execution_count": 21,
   "metadata": {},
   "outputs": [
    {
     "data": {
      "text/html": [
       "<dl>\n",
       "\t<dt>$par</dt>\n",
       "\t\t<dd><style>\n",
       ".list-inline {list-style: none; margin:0; padding: 0}\n",
       ".list-inline>li {display: inline-block}\n",
       ".list-inline>li:not(:last-child)::after {content: \"\\00b7\"; padding: 0 .5ex}\n",
       "</style>\n",
       "<ol class=list-inline><li>-5.8221050567299</li><li>-26.2387816316339</li><li>-19.8346640150441</li></ol>\n",
       "</dd>\n",
       "\t<dt>$value</dt>\n",
       "\t\t<dd>-281.09938828947</dd>\n",
       "\t<dt>$counts</dt>\n",
       "\t\t<dd><style>\n",
       ".dl-inline {width: auto; margin:0; padding: 0}\n",
       ".dl-inline>dt, .dl-inline>dd {float: none; width: auto; display: inline-block}\n",
       ".dl-inline>dt::after {content: \":\\0020\"; padding-right: .5ex}\n",
       ".dl-inline>dt:not(:first-of-type) {padding-left: .5ex}\n",
       "</style><dl class=dl-inline><dt>function</dt><dd>37</dd><dt>gradient</dt><dd>37</dd></dl>\n",
       "</dd>\n",
       "\t<dt>$convergence</dt>\n",
       "\t\t<dd>0</dd>\n",
       "\t<dt>$message</dt>\n",
       "\t\t<dd>'CONVERGENCE: REL_REDUCTION_OF_F &lt;= FACTR*EPSMCH'</dd>\n",
       "</dl>\n"
      ],
      "text/latex": [
       "\\begin{description}\n",
       "\\item[\\$par] \\begin{enumerate*}\n",
       "\\item -5.8221050567299\n",
       "\\item -26.2387816316339\n",
       "\\item -19.8346640150441\n",
       "\\end{enumerate*}\n",
       "\n",
       "\\item[\\$value] -281.09938828947\n",
       "\\item[\\$counts] \\begin{description*}\n",
       "\\item[function] 37\n",
       "\\item[gradient] 37\n",
       "\\end{description*}\n",
       "\n",
       "\\item[\\$convergence] 0\n",
       "\\item[\\$message] 'CONVERGENCE: REL\\_REDUCTION\\_OF\\_F <= FACTR*EPSMCH'\n",
       "\\end{description}\n"
      ],
      "text/markdown": [
       "$par\n",
       ":   1. -5.8221050567299\n",
       "2. -26.2387816316339\n",
       "3. -19.8346640150441\n",
       "\n",
       "\n",
       "\n",
       "$value\n",
       ":   -281.09938828947\n",
       "$counts\n",
       ":   function\n",
       ":   37gradient\n",
       ":   37\n",
       "\n",
       "\n",
       "$convergence\n",
       ":   0\n",
       "$message\n",
       ":   'CONVERGENCE: REL_REDUCTION_OF_F &lt;= FACTR*EPSMCH'\n",
       "\n",
       "\n"
      ],
      "text/plain": [
       "$par\n",
       "[1]  -5.822105 -26.238782 -19.834664\n",
       "\n",
       "$value\n",
       "[1] -281.0994\n",
       "\n",
       "$counts\n",
       "function gradient \n",
       "      37       37 \n",
       "\n",
       "$convergence\n",
       "[1] 0\n",
       "\n",
       "$message\n",
       "[1] \"CONVERGENCE: REL_REDUCTION_OF_F <= FACTR*EPSMCH\"\n"
      ]
     },
     "metadata": {},
     "output_type": "display_data"
    }
   ],
   "source": [
    "dlm_lin_reg_mle"
   ]
  },
  {
   "cell_type": "markdown",
   "metadata": {},
   "source": [
    "Convergence equal to zero means that convergence to a log-likelihood maximum has been achieved. We can now buil the actual model and visualized filtered and smoothed estimates for the beta, out variable of intrest."
   ]
  },
  {
   "cell_type": "code",
   "execution_count": 22,
   "metadata": {},
   "outputs": [],
   "source": [
    "# Build the model using the mle\n",
    "dlm_lin_reg <- build(dlm_lin_reg_mle$par)"
   ]
  },
  {
   "cell_type": "code",
   "execution_count": 23,
   "metadata": {},
   "outputs": [
    {
     "name": "stdout",
     "output_type": "stream",
     "text": [
      "            [,1]\n",
      "[1,] 0.002961365\n",
      "             [,1]         [,2]\n",
      "[1,] 4.023851e-12 0.000000e+00\n",
      "[2,] 0.000000e+00 2.431727e-09\n"
     ]
    }
   ],
   "source": [
    "# Visualize estimated variance matrices:\n",
    "print(dlm_lin_reg$V)\n",
    "print(dlm_lin_reg$W)"
   ]
  },
  {
   "cell_type": "code",
   "execution_count": 24,
   "metadata": {},
   "outputs": [
    {
     "data": {
      "image/png": "[encoded data removed]",
      "text/plain": [
       "plot without title"
      ]
     },
     "metadata": {
      "image/png": {
       "height": 420,
       "width": 420
      }
     },
     "output_type": "display_data"
    }
   ],
   "source": [
    "# Bild a filter and visualize it\n",
    "# Create filter ans smoother objects\n",
    "dlm_lin_reg_filt <- dlmFilter(y, dlm_lin_reg)\n",
    "dlm_lin_reg_smooth <- dlmSmooth(dlm_lin_reg_filt)\n",
    "# Plot the filtered estimated of beta through time\n",
    "t <- time(x)\n",
    "filter_beta <- zoo(dlm_lin_reg_filt$m[-1,2])\n",
    "time(filter_beta) <- t\n",
    "smoother_beta <- zoo(dlm_lin_reg_smooth$s[-1,2])\n",
    "time(smoother_beta) <- t\n",
    "\n",
    "autoplot(filter_beta) + th"
   ]
  },
  {
   "cell_type": "code",
   "execution_count": 25,
   "metadata": {},
   "outputs": [
    {
     "data": {
      "image/png": "[encoded data removed]",
      "text/plain": [
       "plot without title"
      ]
     },
     "metadata": {
      "image/png": {
       "height": 420,
       "width": 420
      }
     },
     "output_type": "display_data"
    }
   ],
   "source": [
    "autoplot(smoother_beta[2:length(t)]) + th"
   ]
  },
  {
   "cell_type": "markdown",
   "metadata": {},
   "source": [
    "As we can see, the smoother chart indicates that Google's beta has slighlty increased over the last 10 years. Let us look at our final beta estimate:"
   ]
  },
  {
   "cell_type": "code",
   "execution_count": 26,
   "metadata": {},
   "outputs": [
    {
     "data": {
      "text/plain": [
       "Jul 2020 \n",
       " 1.04636 "
      ]
     },
     "metadata": {},
     "output_type": "display_data"
    }
   ],
   "source": [
    "filter_beta[length(t)]"
   ]
  },
  {
   "cell_type": "markdown",
   "metadata": {},
   "source": [
    "The beta estimate is the same as before. Meaning that the beta has really been stable over time, as the simple regression ponts us in the same direction of the dynamic regression."
   ]
  },
  {
   "cell_type": "markdown",
   "metadata": {},
   "source": [
    "## Trend models"
   ]
  },
  {
   "cell_type": "markdown",
   "metadata": {},
   "source": [
    "DLMs have the very nice property, which allows us to split a time series into several components and model each of these components as a separate DLM. For example, instead of modelling the differenced series separately from the level series, one could specify a dlm that descibes the trend, one that describes the deviations from the trend (supposedly stationary) and add them up together to forecast directly the series of intrest. Let us look at how we could model a trend component. To model a trend component, one could draw from many models, one example of such models is the random walk plus noise, or local level model. Note that in such a model, if we set the noise variance to 0 the whole exercise we just described would just amount to model the differenced series using a dlm, as the forecast for the trend componend would simply be the value of the series at time t."
   ]
  },
  {
   "cell_type": "markdown",
   "metadata": {},
   "source": [
    "### Random Walk plus Noise\n",
    "The random walk plus noise, or local level model, is defined by the following two equations. \n",
    "\n",
    "$\\mu_t = \\mu_{t-1} + w_t, w_t \\sim \\mathcal{N}(0,W)$\n",
    "\n",
    "$Y_t = \\mu_t + v_t, v_t \\sim \\mathcal{N}(0,V)$\n",
    "\n",
    "As noted there, the behavior of the process (Yt) is greatly influenced by the signal-to-noise ratio r = W/V , the ratio between the two error variances. This model is very helpful wher no clear upward or downward trend is detected. Let's look at the Nile river flows as an example."
   ]
  },
  {
   "cell_type": "code",
   "execution_count": 27,
   "metadata": {},
   "outputs": [
    {
     "data": {
      "image/png": "[encoded data removed]",
      "text/plain": [
       "plot without title"
      ]
     },
     "metadata": {
      "image/png": {
       "height": 420,
       "width": 420
      }
     },
     "output_type": "display_data"
    }
   ],
   "source": [
    "# Let's look at the Nile river flows\n",
    "y <- Nile\n",
    "autoplot(y, size = 1) + th"
   ]
  },
  {
   "cell_type": "markdown",
   "metadata": {},
   "source": [
    "The series doesn't show any trends and seems to fluctuate around some local level. The random walk plus noise is an appropriate model to describe this series."
   ]
  },
  {
   "cell_type": "code",
   "execution_count": 28,
   "metadata": {},
   "outputs": [],
   "source": [
    "# define a parmeter vector (you can also define it directly in the dlmMLE function)\n",
    "parm <- c(0,0)  # V, W\n",
    "\n",
    "# define a dlm as a function of the params (we taxe e^param so we impose variances to be positive)\n",
    "# We set the initial estimate od the local level to be the average of the series\n",
    "build <- function(parm) {\n",
    "dlmModPoly(order = 1, m0 = mean(y), dV = exp(parm[1]),\n",
    "          dW = exp(parm[2]))\n",
    "}\n",
    "\n",
    "# MLE\n",
    "dlm_lin_reg_mle <- dlmMLE(y, parm, build)"
   ]
  },
  {
   "cell_type": "code",
   "execution_count": 29,
   "metadata": {},
   "outputs": [
    {
     "data": {
      "text/html": [
       "<dl>\n",
       "\t<dt>$par</dt>\n",
       "\t\t<dd><style>\n",
       ".list-inline {list-style: none; margin:0; padding: 0}\n",
       ".list-inline>li {display: inline-block}\n",
       ".list-inline>li:not(:last-child)::after {content: \"\\00b7\"; padding: 0 .5ex}\n",
       "</style>\n",
       "<ol class=list-inline><li>9.62238103176116</li><li>7.29225873058687</li></ol>\n",
       "</dd>\n",
       "\t<dt>$value</dt>\n",
       "\t\t<dd>549.631881419134</dd>\n",
       "\t<dt>$counts</dt>\n",
       "\t\t<dd><style>\n",
       ".dl-inline {width: auto; margin:0; padding: 0}\n",
       ".dl-inline>dt, .dl-inline>dd {float: none; width: auto; display: inline-block}\n",
       ".dl-inline>dt::after {content: \":\\0020\"; padding-right: .5ex}\n",
       ".dl-inline>dt:not(:first-of-type) {padding-left: .5ex}\n",
       "</style><dl class=dl-inline><dt>function</dt><dd>33</dd><dt>gradient</dt><dd>33</dd></dl>\n",
       "</dd>\n",
       "\t<dt>$convergence</dt>\n",
       "\t\t<dd>0</dd>\n",
       "\t<dt>$message</dt>\n",
       "\t\t<dd>'CONVERGENCE: REL_REDUCTION_OF_F &lt;= FACTR*EPSMCH'</dd>\n",
       "</dl>\n"
      ],
      "text/latex": [
       "\\begin{description}\n",
       "\\item[\\$par] \\begin{enumerate*}\n",
       "\\item 9.62238103176116\n",
       "\\item 7.29225873058687\n",
       "\\end{enumerate*}\n",
       "\n",
       "\\item[\\$value] 549.631881419134\n",
       "\\item[\\$counts] \\begin{description*}\n",
       "\\item[function] 33\n",
       "\\item[gradient] 33\n",
       "\\end{description*}\n",
       "\n",
       "\\item[\\$convergence] 0\n",
       "\\item[\\$message] 'CONVERGENCE: REL\\_REDUCTION\\_OF\\_F <= FACTR*EPSMCH'\n",
       "\\end{description}\n"
      ],
      "text/markdown": [
       "$par\n",
       ":   1. 9.62238103176116\n",
       "2. 7.29225873058687\n",
       "\n",
       "\n",
       "\n",
       "$value\n",
       ":   549.631881419134\n",
       "$counts\n",
       ":   function\n",
       ":   33gradient\n",
       ":   33\n",
       "\n",
       "\n",
       "$convergence\n",
       ":   0\n",
       "$message\n",
       ":   'CONVERGENCE: REL_REDUCTION_OF_F &lt;= FACTR*EPSMCH'\n",
       "\n",
       "\n"
      ],
      "text/plain": [
       "$par\n",
       "[1] 9.622381 7.292259\n",
       "\n",
       "$value\n",
       "[1] 549.6319\n",
       "\n",
       "$counts\n",
       "function gradient \n",
       "      33       33 \n",
       "\n",
       "$convergence\n",
       "[1] 0\n",
       "\n",
       "$message\n",
       "[1] \"CONVERGENCE: REL_REDUCTION_OF_F <= FACTR*EPSMCH\"\n"
      ]
     },
     "metadata": {},
     "output_type": "display_data"
    }
   ],
   "source": [
    "dlm_lin_reg_mle"
   ]
  },
  {
   "cell_type": "markdown",
   "metadata": {},
   "source": [
    "The log-likelihood maximization has worked. We can go on and plot the filtered series, which represents the local leves around which the series fluctuates."
   ]
  },
  {
   "cell_type": "code",
   "execution_count": 30,
   "metadata": {},
   "outputs": [],
   "source": [
    "loc_level <- build(dlm_lin_reg_mle$par)\n",
    "\n",
    "# Bild a filter and visualize it\n",
    "# Create filter ans smoother objects\n",
    "loc_level_filt <- dlmFilter(y, loc_level)\n",
    "loc_level_smooth <- dlmSmooth(loc_level_filt)\n",
    "# Plot the filtered estimated of beta through time\n",
    "t <- time(y)\n",
    "filter <- zoo(loc_level_filt$m[-1])\n",
    "time(filter) <- t\n",
    "smoother <- zoo(loc_level_smooth$s[-1])"
   ]
  },
  {
   "cell_type": "code",
   "execution_count": 31,
   "metadata": {},
   "outputs": [
    {
     "name": "stderr",
     "output_type": "stream",
     "text": [
      "Don't know how to automatically pick scale for object of type ts. Defaulting to continuous.\n",
      "\n"
     ]
    },
    {
     "data": {
      "image/png": "[encoded data removed]",
      "text/plain": [
       "plot without title"
      ]
     },
     "metadata": {
      "image/png": {
       "height": 420,
       "width": 420
      }
     },
     "output_type": "display_data"
    }
   ],
   "source": [
    "# Plot the series, the filtered local level with 95% confidence bounds\n",
    "\n",
    "# Reconstruct filtering variances from SV Decomposition\n",
    "var_filter <- ts(with(loc_level_filt, unlist(dlmSvd2var(U.C, D.C))), start = start(filter))\n",
    "sd_filter <- sqrt(var_filter)\n",
    "\n",
    "#Confidence interval under normality of errors\n",
    "upper <- filter+qnorm(0.975)*sd_filter[-1]\n",
    "lower <- filter-qnorm(0.975)*sd_filter[-1]\n",
    "\n",
    "time = time(filter)\n",
    "data <- tibble(time, y, filter, upper, lower)\n",
    "\n",
    "ggplot(data, aes(x = time)) +\n",
    "    th +\n",
    "    ggtitle(\"Filtering Estimates and Credible Intervals\") +\n",
    "    scale_y_continuous(expand = c(0,0)) +\n",
    "    xlab(\"\") + ylab(\"\") +\n",
    "    geom_line(aes(y = filter),col = c(\"red\"), size = 2) +\n",
    "    geom_line(aes(y = y),col = c(\"black\")) +\n",
    "    geom_ribbon(aes(ymin = lower, ymax = upper), alpha=0.3, linetype=1, colour=\"lightgreen\", size=0.1,fill=\"green\")"
   ]
  },
  {
   "cell_type": "markdown",
   "metadata": {},
   "source": [
    "The series seems to show a breakpoint just before 1900. As a matter of fact, the annual flows drop in 1898 because the first Ashwan dam was built. Let us confirm this historical fact by testing for structural change."
   ]
  },
  {
   "cell_type": "code",
   "execution_count": 32,
   "metadata": {},
   "outputs": [
    {
     "name": "stderr",
     "output_type": "stream",
     "text": [
      "Loading required package: sandwich\n",
      "\n",
      "\n",
      "Attaching package: 'strucchange'\n",
      "\n",
      "\n",
      "The following object is masked from 'package:stringr':\n",
      "\n",
      "    boundary\n",
      "\n",
      "\n"
     ]
    },
    {
     "data": {
      "text/plain": [
       "\n",
       "\t Optimal (m+1)-segment partition: \n",
       "\n",
       "Call:\n",
       "breakpoints.formula(formula = y ~ 1)\n",
       "\n",
       "Breakpoints at observation number:\n",
       "                      \n",
       "m = 1      28         \n",
       "m = 2      28       83\n",
       "m = 3      28    68 83\n",
       "m = 4      28 45 68 83\n",
       "m = 5   15 30 45 68 83\n",
       "\n",
       "Corresponding to breakdates:\n",
       "                                \n",
       "m = 1        1898               \n",
       "m = 2        1898           1953\n",
       "m = 3        1898      1938 1953\n",
       "m = 4        1898 1915 1938 1953\n",
       "m = 5   1885 1900 1915 1938 1953\n",
       "\n",
       "Fit:\n",
       "                                                   \n",
       "m   0       1       2       3       4       5      \n",
       "RSS 2835157 1597457 1552924 1538097 1507888 1659994\n",
       "BIC    1318    1270    1276    1285    1292    1311"
      ]
     },
     "metadata": {},
     "output_type": "display_data"
    },
    {
     "data": {
      "image/png": "[encoded data removed]",
      "text/plain": [
       "Plot with title \"BIC and Residual Sum of Squares\""
      ]
     },
     "metadata": {
      "image/png": {
       "height": 420,
       "width": 420
      }
     },
     "output_type": "display_data"
    }
   ],
   "source": [
    "# Nile data with one breakpoint: the annual flows drop in 1898\n",
    "library(strucchange)\n",
    "bp.nile <- breakpoints(y ~ 1)\n",
    "summary(bp.nile)\n",
    "plot(bp.nile)"
   ]
  },
  {
   "cell_type": "markdown",
   "metadata": {},
   "source": [
    "As we can see, the lowes BIC happens when 1 breakpoint is considered, and that breakpoint actually corresponds to 1898, in line with our historical knowledge. How can we incorporate this information to improve the local level model? We should allow a structural break during 1898, so that the filter level can more quickly adapt to the abrupt change. This is usually done by modifying the W parameter and making it become time dependent, in particular we will set it to a cerain value, $W_0$ for all periods besided 1898, where it is gonna have a value of $W_0*k$, where k is a multiplier greater than 1. We will estimate $W_0$ and $k$ by maximum likelihood."
   ]
  },
  {
   "cell_type": "code",
   "execution_count": 33,
   "metadata": {},
   "outputs": [],
   "source": [
    "# define a dlm as a function of the params (we taxe e^param so we impose variances to be positive)\n",
    "# We set the initial estimate od the local level to be the average of the series\n",
    "build_sb <- function(parm) {\n",
    "    m <- dlmModPoly(order = 1, m0 = mean(y), dV = exp(parm[1]))\n",
    "    m$JW <- matrix(1) # Makes W be time dependent\n",
    "    m$X <- matrix(exp(parm[2]), ncol=1, nrow=length(y))\n",
    "    j <- which(time(Nile) == 1898)\n",
    "    m$X[j,1] <- m$X[j,1] * (1 + exp(parm[3]))\n",
    "    return(m)\n",
    "}\n",
    "\n",
    "dlm_lin_reg_sb_mle <- dlmMLE(y, c(0,0,0), build_sb)\n",
    "loc_level_sb <- build_sb(dlm_lin_reg_sb_mle$par)"
   ]
  },
  {
   "cell_type": "code",
   "execution_count": 34,
   "metadata": {},
   "outputs": [],
   "source": [
    "# Bild a filter and visualize it\n",
    "# Create filter ans smoother objects\n",
    "loc_level_filt <- dlmFilter(y, loc_level_sb)\n",
    "loc_level_smooth <- dlmSmooth(loc_level_filt)\n",
    "# Plot the filtered estimated of beta through time\n",
    "t <- time(y)\n",
    "filter <- zoo(loc_level_filt$m[-1])\n",
    "time(filter) <- t\n",
    "smoother <- zoo(loc_level_smooth$s[-1])"
   ]
  },
  {
   "cell_type": "code",
   "execution_count": 35,
   "metadata": {},
   "outputs": [
    {
     "data": {
      "image/png": "[encoded data removed]",
      "text/plain": [
       "plot without title"
      ]
     },
     "metadata": {
      "image/png": {
       "height": 420,
       "width": 420
      }
     },
     "output_type": "display_data"
    }
   ],
   "source": [
    "# Plot the series, the smoothed local level with 95% confidence bounds\n",
    "\n",
    "# Reconstruct smoothing variances from SV Decomposition\n",
    "var_smoother <- ts(with(loc_level_smooth, unlist(dlmSvd2var(U.S, D.S))), start = start(smoother))\n",
    "sd_smoother <- sqrt(var_smoother)\n",
    "\n",
    "#Confidence interval under normality of errors\n",
    "upper <- smoother+qnorm(0.975)*sd_smoother[-1]\n",
    "lower <- smoother-qnorm(0.975)*sd_smoother[-1]\n",
    "\n",
    "time <- time(smoother)\n",
    "data <- tibble(time, y, filter, smoother, upper, lower)\n",
    "\n",
    "ggplot(data, aes(x = time)) +\n",
    "    th +\n",
    "    ggtitle(\"Smoothing Estimates and Credible Intervals\") +\n",
    "    scale_y_continuous(expand = c(0,0)) +\n",
    "    xlab(\"\") + ylab(\"\") +\n",
    "    geom_line(aes(y = smoother),col = c(\"red\"), size = 2) +\n",
    "    geom_line(aes(y = y),col = c(\"black\")) +\n",
    "    geom_ribbon(aes(ymin = lower, ymax = upper), alpha=0.3, linetype=1, colour=\"lightgreen\", size=0.1,fill=\"green\")"
   ]
  },
  {
   "cell_type": "markdown",
   "metadata": {},
   "source": [
    "### Linear Growth Model"
   ]
  },
  {
   "cell_type": "markdown",
   "metadata": {},
   "source": [
    "The local level model is a special case of as class of models defined al polynomial of order n. For instance, the random walk plus noise is a polynomial model of order 1. In general, polynomial models of order n have the following forecast function:\n",
    "\n",
    "$ f_t(k) = E(Y_{t+k} \\mid \\mathcal{D}_t) = a_{t,0} + a_{t,1}k + · · · + a_{t,n-1}k^{n−1}, k \\geq 0$ \n",
    "\n",
    "where $a_{t,0}, ..., a_{t,n-1}$ are linear functions of $ m_t = E(Y_{t} \\mid \\mathcal{D}_t)$ and are independent of k. Thus, the forecast function is a polynomial of order (n − 1) in k. In the random walk plus noise, the forecast function was simply:\n",
    "\n",
    "$f_t(k) = E(Y_{t+k} \\mid \\mathcal{D}_t) = a_{t,0} = m_t$\n",
    "\n",
    "A polynomial model of order 2 is defined linear growth model, or local linear trend model. The forecast function for a linear growth model has the following form:\n",
    "\n",
    "$f_t(k) = E(Y_{t+k} \\mid \\mathcal{D}_t) = a_{t,0} + a_{t,0} k$\n",
    "\n",
    "As we can see, this forecast function extrapolates and projects into the future a linear trend of the data. The local linear trend model is defined by the following equations:\n",
    "\n",
    "$Y_t = \\mu_t + v_t, v_t \\sim \\mathcal{N}(0,V)$\n",
    "\n",
    "$\\mu_t = \\mu_{t-1} + \\beta_{t-1} + w_{1,t}, w_{1,t} \\sim \\mathcal{N}(0,\\sigma^2_{w_1})$\n",
    "\n",
    "$\\beta_t = \\beta_{t-1} + w_{2,t}, w_{2,t} \\sim \\mathcal{N}(0,\\sigma^2_{w_2})$\n",
    "\n",
    "With uncorrelated errors. Let's try to fit this model to data that show a linear trend.\n"
   ]
  },
  {
   "cell_type": "code",
   "execution_count": 36,
   "metadata": {},
   "outputs": [
    {
     "data": {
      "image/png": "[encoded data removed]",
      "text/plain": [
       "plot without title"
      ]
     },
     "metadata": {
      "image/png": {
       "height": 420,
       "width": 420
      }
     },
     "output_type": "display_data"
    }
   ],
   "source": [
    "data(\"USeconomic\")\n",
    "log_gnp <- USeconomic[,\"log(GNP)\"]\n",
    "autoplot(log_gnp, size = 1) + th"
   ]
  },
  {
   "cell_type": "markdown",
   "metadata": {},
   "source": [
    "The log og the GNP seems a very good time-series to fit a linear growth model as the trend component. "
   ]
  },
  {
   "cell_type": "code",
   "execution_count": 37,
   "metadata": {},
   "outputs": [
    {
     "name": "stderr",
     "output_type": "stream",
     "text": [
      "Warning message in dlmLL(y = y, mod = mod, debug = debug):\n",
      "\"a numerically singular 'V' has been slightly perturbed to make it nonsingular\"\n",
      "Warning message in dlmLL(y = y, mod = mod, debug = debug):\n",
      "\"a numerically singular 'V' has been slightly perturbed to make it nonsingular\"\n",
      "Warning message in dlmLL(y = y, mod = mod, debug = debug):\n",
      "\"a numerically singular 'V' has been slightly perturbed to make it nonsingular\"\n",
      "Warning message in dlmLL(y = y, mod = mod, debug = debug):\n",
      "\"a numerically singular 'V' has been slightly perturbed to make it nonsingular\"\n",
      "Warning message in dlmLL(y = y, mod = mod, debug = debug):\n",
      "\"a numerically singular 'V' has been slightly perturbed to make it nonsingular\"\n",
      "Warning message in dlmLL(y = y, mod = mod, debug = debug):\n",
      "\"a numerically singular 'V' has been slightly perturbed to make it nonsingular\"\n",
      "Warning message in dlmLL(y = y, mod = mod, debug = debug):\n",
      "\"a numerically singular 'V' has been slightly perturbed to make it nonsingular\"\n"
     ]
    }
   ],
   "source": [
    "# Model builder\n",
    "build <- function(parm){\n",
    "    dlmModPoly(order = 2, dV = exp(parm[1]), dW = c(exp(parm[2]), exp(parm[3])))   \n",
    "}\n",
    "\n",
    "ll_mle <- dlmMLE(log_gnp, c(0,0,0), build)\n",
    "ll <- build(ll_mle$par)"
   ]
  },
  {
   "cell_type": "code",
   "execution_count": 38,
   "metadata": {},
   "outputs": [],
   "source": [
    "# Filter estimates\n",
    "ll_filt <- dlmFilter(log_gnp, ll) \n",
    "\n",
    "# Forecast\n",
    "ll_forecast <- dlmForecast(ll_filt, 20)"
   ]
  },
  {
   "cell_type": "code",
   "execution_count": 39,
   "metadata": {},
   "outputs": [
    {
     "name": "stderr",
     "output_type": "stream",
     "text": [
      "Warning message:\n",
      "\"Removed 136 row(s) containing missing values (geom_path).\"\n",
      "Warning message:\n",
      "\"Removed 20 row(s) containing missing values (geom_path).\"\n"
     ]
    },
    {
     "data": {
      "image/png": "[encoded data removed]",
      "text/plain": [
       "plot without title"
      ]
     },
     "metadata": {
      "image/png": {
       "height": 420,
       "width": 420
      }
     },
     "output_type": "display_data"
    }
   ],
   "source": [
    "forecast <- ll_forecast$f\n",
    "var_forecast <- unlist(ll_forecast$Q)\n",
    "sd_forecast <- sqrt(var_forecast)\n",
    "\n",
    "#Confidence interval under normality of errors\n",
    "upper <- forecast+qnorm(0.975)*sd_forecast\n",
    "lower <- forecast-qnorm(0.975)*sd_forecast\n",
    "\n",
    "data <- ts.union(log_gnp, forecast, upper, lower)\n",
    "data <- tk_tbl(data, rename_index = \"time\")\n",
    "\n",
    "ggplot(data, aes(x = time)) +\n",
    "    th +\n",
    "    ggtitle(\"Local linear trend Forecast with credible intervals\") +\n",
    "    scale_y_continuous(expand = c(0,0)) +\n",
    "    xlab(\"\") + ylab(\"\") +\n",
    "    geom_line(aes(y = forecast),col = c(\"red\"), size = 1) +\n",
    "    geom_line(aes(y = log_gnp),col = c(\"black\"), size = 1) +\n",
    "    geom_ribbon(aes(ymin = lower, ymax = upper), alpha=0.3, linetype=1, colour=\"lightgreen\", size=0.1,fill=\"green\")"
   ]
  },
  {
   "cell_type": "markdown",
   "metadata": {},
   "source": [
    "## Seasonality models"
   ]
  },
  {
   "cell_type": "markdown",
   "metadata": {},
   "source": [
    "Once we understood how to model trend using DLMs, it is time to learn how to model seasonalities. One of the coolest things about DLMs is the fact that you can specify different DLMs to describe different components and then simply combine them together to get a compound model. This is done seamlessly in dlm with the use of the + operator.\n",
    "Suppose that we also want to model the seasonalities of the US log GNP series. This can be done in a varieties of ways but I will just focus on the main 2 ways. I will model the detrended log gnp series as an example, then I will sum up the two models."
   ]
  },
  {
   "cell_type": "code",
   "execution_count": 40,
   "metadata": {},
   "outputs": [],
   "source": [
    "# Get detrended series\n",
    "log_gnp_detrended <- log_gnp - ll_filt$m[,1]"
   ]
  },
  {
   "cell_type": "code",
   "execution_count": 41,
   "metadata": {},
   "outputs": [
    {
     "name": "stdout",
     "output_type": "stream",
     "text": [
      "[1] -6.447495e-11\n"
     ]
    },
    {
     "data": {
      "image/png": "[encoded data removed]",
      "text/plain": [
       "plot without title"
      ]
     },
     "metadata": {
      "image/png": {
       "height": 420,
       "width": 420
      }
     },
     "output_type": "display_data"
    }
   ],
   "source": [
    "print(mean(log_gnp_detrended))\n",
    "autoplot(log_gnp_detrended, size = 1) + th"
   ]
  },
  {
   "cell_type": "markdown",
   "metadata": {},
   "source": [
    "### Seasonal Factor Models"
   ]
  },
  {
   "cell_type": "markdown",
   "metadata": {},
   "source": [
    "This model takes data with a certain frequency, say 1/n, and estimates the n deviations from the mean that repeat every cycle of n observations. In our example, we have quarterly data (frequency = 1/4), so the seasonal factor model will estimate 4 factors, each related to a specific quarter, that will add up to the mean (in this case 0, since the series is detrended). In the static seasonal model, wt is degenerate on a vector of zeros (i.e., Wt = 0) More generally, the seasonal effects might change in time, so that Wt is nonzero and has to be carefully specified."
   ]
  },
  {
   "cell_type": "code",
   "execution_count": 42,
   "metadata": {},
   "outputs": [
    {
     "name": "stderr",
     "output_type": "stream",
     "text": [
      "Warning message in dlmLL(y = y, mod = mod, debug = debug):\n",
      "\"a numerically singular 'V' has been slightly perturbed to make it nonsingular\"\n",
      "Warning message in dlmLL(y = y, mod = mod, debug = debug):\n",
      "\"a numerically singular 'V' has been slightly perturbed to make it nonsingular\"\n",
      "Warning message in dlmLL(y = y, mod = mod, debug = debug):\n",
      "\"a numerically singular 'V' has been slightly perturbed to make it nonsingular\"\n",
      "Warning message in dlmLL(y = y, mod = mod, debug = debug):\n",
      "\"a numerically singular 'V' has been slightly perturbed to make it nonsingular\"\n",
      "Warning message in dlmLL(y = y, mod = mod, debug = debug):\n",
      "\"a numerically singular 'V' has been slightly perturbed to make it nonsingular\"\n",
      "Warning message in dlmLL(y = y, mod = mod, debug = debug):\n",
      "\"a numerically singular 'V' has been slightly perturbed to make it nonsingular\"\n",
      "Warning message in dlmLL(y = y, mod = mod, debug = debug):\n",
      "\"a numerically singular 'V' has been slightly perturbed to make it nonsingular\"\n"
     ]
    }
   ],
   "source": [
    "# Model builder\n",
    "build <- function(parm){\n",
    "    dlmModSeas(frequency = 4, dV = exp(parm[1]), dW = rep(0,3))   \n",
    "}\n",
    "\n",
    "seas_mle <- dlmMLE(log_gnp_detrended, c(0,0,0), build)\n",
    "seas <- build(seas_mle$par)"
   ]
  },
  {
   "cell_type": "code",
   "execution_count": 43,
   "metadata": {},
   "outputs": [
    {
     "name": "stderr",
     "output_type": "stream",
     "text": [
      "Warning message in dlmFilter(log_gnp_detrended, seas):\n",
      "\"a numerically singular 'V' has been slightly perturbed to make it nonsingular\"\n"
     ]
    }
   ],
   "source": [
    "seas_fil <- dlmFilter(log_gnp_detrended, seas)\n",
    "one_step_ahead_forecasts <- seas_fil$f"
   ]
  },
  {
   "cell_type": "code",
   "execution_count": 44,
   "metadata": {},
   "outputs": [
    {
     "name": "stderr",
     "output_type": "stream",
     "text": [
      "Don't know how to automatically pick scale for object of type ts. Defaulting to continuous.\n",
      "\n"
     ]
    },
    {
     "data": {
      "image/png": "[encoded data removed]",
      "text/plain": [
       "plot without title"
      ]
     },
     "metadata": {
      "image/png": {
       "height": 420,
       "width": 420
      }
     },
     "output_type": "display_data"
    }
   ],
   "source": [
    "time = time(log_gnp_detrended)\n",
    "data <- tibble(time, log_gnp_detrended, one_step_ahead_forecasts)\n",
    "\n",
    "ggplot(data, aes(x = time)) +\n",
    "    th +\n",
    "    ggtitle(\"Seasonal Model with One step ahead forecasts\") +\n",
    "    scale_y_continuous(expand = c(0,0)) +\n",
    "    xlab(\"\") + ylab(\"\") +\n",
    "    geom_line(aes(y = one_step_ahead_forecasts),col = c(\"red\"), size = 1) +\n",
    "    geom_line(aes(y = log_gnp_detrended),col = c(\"black\"), size = 1)"
   ]
  },
  {
   "cell_type": "markdown",
   "metadata": {},
   "source": [
    "### Fourier Seasonality Model"
   ]
  },
  {
   "cell_type": "markdown",
   "metadata": {},
   "source": [
    "These kind of models are especially used when the frequency of the data is wery low, as instead of estimating n seasonal factors, using cyclical functions leads to a more parsimonious representation."
   ]
  },
  {
   "cell_type": "code",
   "execution_count": 45,
   "metadata": {},
   "outputs": [
    {
     "name": "stderr",
     "output_type": "stream",
     "text": [
      "Warning message in dlmLL(y = y, mod = mod, debug = debug):\n",
      "\"a numerically singular 'V' has been slightly perturbed to make it nonsingular\"\n",
      "Warning message in dlmLL(y = y, mod = mod, debug = debug):\n",
      "\"a numerically singular 'V' has been slightly perturbed to make it nonsingular\"\n",
      "Warning message in dlmLL(y = y, mod = mod, debug = debug):\n",
      "\"a numerically singular 'V' has been slightly perturbed to make it nonsingular\"\n",
      "Warning message in dlmLL(y = y, mod = mod, debug = debug):\n",
      "\"a numerically singular 'V' has been slightly perturbed to make it nonsingular\"\n",
      "Warning message in dlmLL(y = y, mod = mod, debug = debug):\n",
      "\"a numerically singular 'V' has been slightly perturbed to make it nonsingular\"\n",
      "Warning message in dlmLL(y = y, mod = mod, debug = debug):\n",
      "\"a numerically singular 'V' has been slightly perturbed to make it nonsingular\"\n",
      "Warning message in dlmLL(y = y, mod = mod, debug = debug):\n",
      "\"a numerically singular 'V' has been slightly perturbed to make it nonsingular\"\n"
     ]
    }
   ],
   "source": [
    "# Model builder\n",
    "# s = freq, q = number of periodic functions\n",
    "build <- function(parm){\n",
    "    dlmModTrig(s = 4, q = 2, dV = exp(parm[1]))   \n",
    "}\n",
    "\n",
    "seas_fourier_mle <- dlmMLE(log_gnp_detrended, c(0,0,0), build)\n",
    "seas_fourier <- build(seas_mle$par)"
   ]
  },
  {
   "cell_type": "code",
   "execution_count": 46,
   "metadata": {},
   "outputs": [
    {
     "name": "stderr",
     "output_type": "stream",
     "text": [
      "Warning message in dlmFilter(log_gnp_detrended, seas_fourier):\n",
      "\"a numerically singular 'V' has been slightly perturbed to make it nonsingular\"\n"
     ]
    },
    {
     "data": {
      "image/png": "[encoded data removed]",
      "text/plain": [
       "plot without title"
      ]
     },
     "metadata": {
      "image/png": {
       "height": 420,
       "width": 420
      }
     },
     "output_type": "display_data"
    }
   ],
   "source": [
    "seas_fourier_fil <- dlmFilter(log_gnp_detrended, seas_fourier)\n",
    "one_step_ahead_forecasts <- seas_fourier_fil$f\n",
    "\n",
    "time = time(log_gnp_detrended)\n",
    "data <- tibble(time, log_gnp_detrended, one_step_ahead_forecasts)  %>% \n",
    "    filter(time > 1955)\n",
    "\n",
    "ggplot(data, aes(x = time)) +\n",
    "    th +\n",
    "    ggtitle(\"Seasonal Model with One step ahead forecasts\") +\n",
    "    scale_y_continuous(expand = c(0,0)) +\n",
    "    xlab(\"\") + ylab(\"\") +\n",
    "    geom_line(aes(y = one_step_ahead_forecasts),col = c(\"red\"), size = 1) +\n",
    "    geom_line(aes(y = log_gnp_detrended),col = c(\"black\"), size = 1)"
   ]
  },
  {
   "cell_type": "markdown",
   "metadata": {},
   "source": [
    "As we said before, the dlm package seamlessy allows us to sum two models, for example, let's add the linear trend model to the Fourier seasonality model and plot forecasts with credible intervals. In order to do so, we are going to assume the parameters we estimated prevously."
   ]
  },
  {
   "cell_type": "code",
   "execution_count": 47,
   "metadata": {},
   "outputs": [],
   "source": [
    "# New model as a sum of models\n",
    "\n",
    "build <- function(parm){\n",
    "    m1 <- dlmModPoly(order = 2, dV = exp(parm[1]), dW = c(exp(parm[2]), exp(parm[3])))\n",
    "    m2 <- dlmModSeas(frequency = 4, dV = exp(seas_mle$par[1]), dW = rep(0,3))\n",
    "    return(m1 + m2)\n",
    "}\n",
    "\n",
    "ll_seas <- build(ll_mle$par)"
   ]
  },
  {
   "cell_type": "code",
   "execution_count": 48,
   "metadata": {},
   "outputs": [],
   "source": [
    "# Filter estimates\n",
    "ll_seas_filt <- dlmFilter(log_gnp, ll_seas) \n",
    "\n",
    "# Forecast\n",
    "ll_seas_forecast <- dlmForecast(ll_seas_filt, 20)"
   ]
  },
  {
   "cell_type": "code",
   "execution_count": 49,
   "metadata": {},
   "outputs": [
    {
     "name": "stderr",
     "output_type": "stream",
     "text": [
      "Warning message:\n",
      "\"Removed 136 row(s) containing missing values (geom_path).\"\n",
      "Warning message:\n",
      "\"Removed 20 row(s) containing missing values (geom_path).\"\n"
     ]
    },
    {
     "data": {
      "image/png": "[encoded data removed]",
      "text/plain": [
       "plot without title"
      ]
     },
     "metadata": {
      "image/png": {
       "height": 420,
       "width": 420
      }
     },
     "output_type": "display_data"
    }
   ],
   "source": [
    "forecast <- ll_seas_forecast$f\n",
    "var_forecast <- unlist(ll_seas_forecast$Q)\n",
    "sd_forecast <- sqrt(var_forecast)\n",
    "\n",
    "#Confidence interval under normality of errors\n",
    "upper <- forecast+qnorm(0.975)*sd_forecast\n",
    "lower <- forecast-qnorm(0.975)*sd_forecast\n",
    "\n",
    "data <- ts.union(log_gnp, forecast, upper, lower)\n",
    "data <- tk_tbl(data, rename_index = \"time\")\n",
    "\n",
    "ggplot(data, aes(x = time)) +\n",
    "    th +\n",
    "    ggtitle(\"Local linear trend Forecast with credible intervals\") +\n",
    "    scale_y_continuous(expand = c(0,0)) +\n",
    "    xlab(\"\") + ylab(\"\") +\n",
    "    geom_line(aes(y = forecast),col = c(\"red\"), size = 1) +\n",
    "    geom_line(aes(y = log_gnp),col = c(\"black\"), size = 1) +\n",
    "    geom_ribbon(aes(ymin = lower, ymax = upper), alpha=0.3, linetype=1, colour=\"lightgreen\", size=0.1,fill=\"green\")"
   ]
  },
  {
   "cell_type": "code",
   "execution_count": 50,
   "metadata": {},
   "outputs": [
    {
     "name": "stderr",
     "output_type": "stream",
     "text": [
      "Warning message in modeldf.default(object):\n",
      "\"Could not find appropriate degrees of freedom for this model.\"\n"
     ]
    },
    {
     "data": {
      "image/png": "[encoded data removed]",
      "text/plain": [
       "plot without title"
      ]
     },
     "metadata": {
      "image/png": {
       "height": 420,
       "width": 420
      }
     },
     "output_type": "display_data"
    }
   ],
   "source": [
    "# Let's run diagnostic on the one-step ahead forecasts residuals for this model\n",
    "e <- log_gnp - ll_seas_filt$f\n",
    "checkresiduals(e[30:length(e)])"
   ]
  }
 ],
 "metadata": {
  "kernelspec": {
   "display_name": "R",
   "language": "R",
   "name": "ir"
  },
  "language_info": {
   "codemirror_mode": "r",
   "file_extension": ".r",
   "mimetype": "text/x-r-source",
   "name": "R",
   "pygments_lexer": "r",
   "version": "4.0.2"
  }
 },
 "nbformat": 4,
 "nbformat_minor": 2
}
